{
 "cells": [
  {
   "cell_type": "markdown",
   "metadata": {},
   "source": [
    "Version 1:\n",
    "\n",
    "Do the airflow tutorial https://airflow.apache.org/tutorial.html and then set up the following:\n",
    "\n",
    "I would like you to build a DAG (airflow term) that runs a Postgres Query (join and group by) and inserts the result into the database again. Setting a Postgres database can be done on your local machine (google is your friend :-) )\n",
    "\n",
    "Hint 1: To connect airflow to the database, you should the airflow conn_id with a saved connection in your airflow web interface. Hint 2: You can do all this with the PostgresOperator from airflow."
   ]
  },
  {
   "cell_type": "code",
   "execution_count": 5,
   "metadata": {},
   "outputs": [],
   "source": [
    "import airflow\n",
    "\n",
    "# The DAG object; we'll need this to instantiate a DAG\n",
    "from airflow import DAG\n",
    "\n",
    "# Operators; we need this to operate!\n",
    "from airflow.operators.bash_operator import BashOperator\n",
    "from airflow.operators.postgres_operator import PostgresOperator\n",
    "from airflow.operators.python_operator import PythonOperator\n",
    "\n",
    "from datetime import datetime, timedelta"
   ]
  },
  {
   "cell_type": "code",
   "execution_count": 11,
   "metadata": {},
   "outputs": [],
   "source": [
    "default_args = {\n",
    "    'owner': 'airflow',\n",
    "    'depends_on_past': False,\n",
    "    'start_date': airflow.utils.dates.days_ago(1),\n",
    "    'email': ['tjdcevans@gmail.com'],\n",
    "    'email_on_failure': False,\n",
    "    'email_on_retry': False,\n",
    "    'retries': 1,\n",
    "    'retry_delay': timedelta(minutes=5),\n",
    "    # 'queue': 'bash_queue',\n",
    "    # 'pool': 'backfill',\n",
    "    # 'priority_weight': 10,\n",
    "    # 'end_date': datetime(2016, 1, 1),\n",
    "}\n",
    "\n",
    "dag = DAG('asana_postgres', default_args=default_args, schedule_interval=None)"
   ]
  },
  {
   "cell_type": "code",
   "execution_count": 12,
   "metadata": {},
   "outputs": [],
   "source": [
    "completed_tasks_query = \"\"\"\n",
    "CREATE TABLE IF NOT EXISTS completed_tasks\n",
    "(\n",
    "    name varchar(255),\n",
    "    tasks bigint,\n",
    "    complete bigint,\n",
    "    incomplete bigint\n",
    ");\n",
    "\n",
    "INSERT INTO completed_tasks\n",
    "SELECT u.name as name,\n",
    "    COUNT(*) as tasks,\n",
    "    COUNT(NULLIF(completed, 'False') ) as complete,\n",
    "    COUNT(NULLIF(completed, 'True') ) as incomplete\n",
    "FROM tasks t\n",
    "LEFT JOIN users u ON u.id = t.assignee_id\n",
    "GROUP BY u.name;\n",
    "\"\"\"\n",
    "\n",
    "t1 = PostgresOperator(\n",
    "    task_id='query_completed_tasks_v1',\n",
    "    sql=completed_tasks_query,\n",
    "    postgres_conn_id='asana_db', \n",
    "    autocommit=True,\n",
    "    dag=dag)"
   ]
  },
  {
   "cell_type": "code",
   "execution_count": 4,
   "metadata": {},
   "outputs": [],
   "source": []
  },
  {
   "cell_type": "code",
   "execution_count": 5,
   "metadata": {},
   "outputs": [],
   "source": []
  }
 ],
 "metadata": {
  "kernelspec": {
   "display_name": "Python 3",
   "language": "python",
   "name": "python3"
  },
  "language_info": {
   "codemirror_mode": {
    "name": "ipython",
    "version": 3
   },
   "file_extension": ".py",
   "mimetype": "text/x-python",
   "name": "python",
   "nbconvert_exporter": "python",
   "pygments_lexer": "ipython3",
   "version": "3.5.6"
  }
 },
 "nbformat": 4,
 "nbformat_minor": 2
}
